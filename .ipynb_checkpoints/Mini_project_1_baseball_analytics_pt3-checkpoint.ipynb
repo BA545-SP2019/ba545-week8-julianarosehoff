{
 "cells": [
  {
   "cell_type": "markdown",
   "metadata": {},
   "source": [
    "# Mini Project #1: Baseball Analytics\n",
    "\n",
    "The overall purpose of this mini-project is to predicting MLB wins per season by modeling data to KMeans clustering model and linear regression models."
   ]
  },
  {
   "cell_type": "markdown",
   "metadata": {},
   "source": [
    "## Part 3: Analysis/Modeling\n",
    "\n",
    "In this part of the project, you are going to conduct actual analysis on the data your just processed in Part 1 & 2. The tasks in the part include:\n",
    "- K-means Clustering: pre-modeling part that provides insights toward the data;\n",
    "- Linear Regression: predict Wins (continuous) using trained linear regression model;\n",
    "- Logistic Regression: predict Win_bins (categorical) using trained logistic regression model __on your own__.\n",
    "\n",
    "Let's get started."
   ]
  },
  {
   "cell_type": "code",
   "execution_count": 1,
   "metadata": {},
   "outputs": [],
   "source": [
    "# import dependencies\n",
    "import pandas as pd\n",
    "import numpy as np"
   ]
  },
  {
   "cell_type": "code",
   "execution_count": 6,
   "metadata": {},
   "outputs": [
    {
     "name": "stdout",
     "output_type": "stream",
     "text": [
      "     G    R    AB     H   2B  3B   HR   BB      SO   SB    ...     \\\n",
      "0  162  744  5424  1331  218  22  189  681  1068.0   37    ...      \n",
      "1  162  718  5499  1377  232  35  137  602   917.0   46    ...      \n",
      "2  161  597  5506  1378  208  38   95  448   916.0   43    ...      \n",
      "3  162  544  5362  1297  186  27  102  472   920.0   49    ...      \n",
      "4  162  527  5354  1279  200  36   92  443   973.0  107    ...      \n",
      "\n",
      "   decade_1950  decade_1960  decade_1970  decade_1980  decade_1990  \\\n",
      "0            0            1            0            0            0   \n",
      "1            0            1            0            0            0   \n",
      "2            0            1            0            0            0   \n",
      "3            0            1            0            0            0   \n",
      "4            0            1            0            0            0   \n",
      "\n",
      "   decade_2000  decade_2010  runs_per_game  runs_allowed_per_game       rpg  \n",
      "0            0            0       4.592593               4.839506  4.525175  \n",
      "1            0            0       4.432099               4.358025  4.460518  \n",
      "2            0            0       3.708075               4.099379  3.946881  \n",
      "3            0            0       3.358025               3.401235  4.035670  \n",
      "4            0            0       3.253086               3.512346  3.988293  \n",
      "\n",
      "[5 rows x 38 columns]\n",
      "   wins\n",
      "0    70\n",
      "1    86\n",
      "2    70\n",
      "3    82\n",
      "4    75\n",
      "   win_bins\n",
      "0         3\n",
      "1         3\n",
      "2         3\n",
      "3         3\n",
      "4         3\n"
     ]
    }
   ],
   "source": [
    "# read-in required data\n",
    "# features for analysis\n",
    "data_features = pd.read_csv('../../ba545-data/baseball_analytics_features.csv', header=0, index_col=0)\n",
    "\n",
    "# continuous target `wins`\n",
    "wins = pd.read_csv('../../ba545-data/baseball_analytics_wins.csv',  index_col=0, names = ['wins'])\n",
    "\n",
    "# categorical target `Win_bins`\n",
    "win_bins = pd.read_csv('../../ba545-data/baseball_analytics_target.csv',  index_col=0, names = ['win_bins'])\n",
    "\n",
    "# display if data are read correctly\n",
    "print(data_features.head())\n",
    "print(wins.head())\n",
    "print(win_bins.head())"
   ]
  },
  {
   "cell_type": "markdown",
   "metadata": {},
   "source": [
    "### K-means Clustering\n",
    "\n",
    "K-means clustering, as a basic clustering technique, can capture internal relationship(s) between your data points. Sometimes we use (k-means) clustering as a pre-modeling step for supervised learning: essentially, we can use k-means clsutering to capture the internal relationship of the features, and then capture the relationship in an additional feature that being used as an input to a classification/regression model.\n",
    "\n",
    "One key step in k-means clustering is to determine the value of `k` - how many clusters? If we want to use the clustering results as an additional (categorical) feature, we should not have a higher value of `k`. Also, increasing value of `k` may increase the erroneous relationship being captured. The k-means model is provided in `sklearn.clustering`.\n",
    "\n",
    "In this tutorial, we use **Grid Search** to find the best value of `k`. To conduct Grid Search, you need a range of `k` and a metric that measures the performance under each value of `k`. In this context, we select the metric as the [**silhouette score**](https://scikit-learn.org/stable/auto_examples/cluster/plot_kmeans_silhouette_analysis.html) (`s_score`), which is provided in `sklearn.metrics`."
   ]
  },
  {
   "cell_type": "code",
   "execution_count": 7,
   "metadata": {},
   "outputs": [],
   "source": [
    "# import dependencies\n",
    "from sklearn.cluster import KMeans\n",
    "from sklearn import metrics"
   ]
  },
  {
   "cell_type": "markdown",
   "metadata": {},
   "source": [
    "Silhouette score is a visualized way of measuring the performance of clustering. Thus, we need to import `matplotlib` to visualize the clustering."
   ]
  },
  {
   "cell_type": "code",
   "execution_count": 8,
   "metadata": {},
   "outputs": [],
   "source": [
    "# import and initialize matplotlib\n",
    "import matplotlib.pyplot as plt\n",
    "%matplotlib inline\n",
    "plt.style.use('ggplot')"
   ]
  },
  {
   "cell_type": "code",
   "execution_count": 9,
   "metadata": {},
   "outputs": [
    {
     "data": {
      "text/plain": [
       "<function matplotlib.pyplot.show(*args, **kw)>"
      ]
     },
     "execution_count": 9,
     "metadata": {},
     "output_type": "execute_result"
    },
    {
     "data": {
      "image/png": "[encoded data removed]",
      "text/plain": [
       "<Figure size 1440x1440 with 9 Axes>"
      ]
     },
     "metadata": {},
     "output_type": "display_data"
    }
   ],
   "source": [
    "# We need to create a figure that contains different value of `k` as sub-figures\n",
    "fig = plt.figure(figsize=(20,20))\n",
    "fig.subplots_adjust(left=0,right=1,bottom=0,top=1,hspace=0.05,wspace=0.5)\n",
    "\n",
    "#### complete your code below\n",
    "#### create an empty dictionary `s_score_dict` that we will use to store silhouette scores\n",
    "#### for different `k` values; use different `k` values as keys, and corresponding\n",
    "#### silhouette score as values\n",
    "s_score_dict = {}\n",
    "\n",
    "#### now we create a for-loop go through a range of `k` values in [2, 11]\n",
    "for i in range(2,11):\n",
    "    #### add a sub-figure `ax` to `fig` using `.add_subplot(8,8,i+1,xticks=[],yticks=[])`\n",
    "    fig.add_subplot(8,8,i+1,xticks=[],yticks=[])\n",
    "    # conduct the k-means clustering using `k = i`\n",
    "    km = KMeans(n_clusters=i, random_state=2019)\n",
    "    # any clustering model needs a distance metric, in this case, `distance` is the distance between\n",
    "    # any pair of data points\n",
    "    distances = km.fit_transform(data_features)\n",
    "    # clustering models will generate `labels` - if you want to create the additional feature \n",
    "    # as discussed above, you will use `labels` as its values\n",
    "    labels = km.labels_\n",
    "    # you will then applied the fitted `km` model to `data_faetures`\n",
    "    l= km.fit_predict(data_features)\n",
    "    # Silhouette score is computed between `data_features` and `l`\n",
    "    s_s= metrics.silhouette_score(data_features, l)\n",
    "    #### update the `s_score_dict` using `i` as key and `s_s` as value\n",
    "    s_score_dict.update({i:s_s})\n",
    "    # we will plot the clusters out using scatter plot\n",
    "    plt.scatter(distances[:,0], distances[:,1], c=labels)\n",
    "    #### add 'i clusters' as the title of each sub-figure\n",
    "    title = str(i)\n",
    "    plt.title(title+ 'clusters')\n",
    "    \n",
    "#### show plot\n",
    "plt.show"
   ]
  },
  {
   "cell_type": "markdown",
   "metadata": {},
   "source": [
    "Visually, we know that 2-clusters looks the best. Let's double check the silhouette score to make sure."
   ]
  },
  {
   "cell_type": "code",
   "execution_count": 10,
   "metadata": {},
   "outputs": [
    {
     "data": {
      "text/plain": [
       "{2: 0.39070077846349777,\n",
       " 3: 0.3386571588556883,\n",
       " 4: 0.25344426469637676,\n",
       " 5: 0.23576545516391118,\n",
       " 6: 0.21364560382382403,\n",
       " 7: 0.19583510661411763,\n",
       " 8: 0.18442864325552202,\n",
       " 9: 0.1759084254584811,\n",
       " 10: 0.17187910654005373}"
      ]
     },
     "execution_count": 10,
     "metadata": {},
     "output_type": "execute_result"
    }
   ],
   "source": [
    "s_score_dict"
   ]
  },
  {
   "cell_type": "markdown",
   "metadata": {},
   "source": [
    "As observed in the figure, 2-cluster model returns the highest silhouette score. \n",
    "\n",
    "__Rule of thumb__: However, we normally start searching for `k` value at `3`.\n",
    "\n",
    "So we are going to build a k-means model of `k=3`, and then add the `cluster_label` as a feature."
   ]
  },
  {
   "cell_type": "code",
   "execution_count": 12,
   "metadata": {},
   "outputs": [
    {
     "data": {
      "image/png": "[encoded data removed]",
      "text/plain": [
       "<Figure size 432x288 with 1 Axes>"
      ]
     },
     "metadata": {},
     "output_type": "display_data"
    }
   ],
   "source": [
    "#### complete your code below\n",
    "#### create a model called `kmeans_model` with `n_clusters = 3` and `random_state = 2019`\n",
    "kmeans_model = KMeans(n_clusters=3, random_state=2019)\n",
    "\n",
    "#### capture `distances` by fit (`fit_transform`) `kmeans_model` to `data_features`\n",
    "distances = kmeans_model.fit_transform(data_features)\n",
    "\n",
    "#### record labels of clusters in `labels`\n",
    "labels = kmeans_model.labels_\n",
    "\n",
    "#### create a scatter plot (plt.scatter()) to plot the clusters\n",
    "plt.scatter(distances[:,0], distances[:,1], c=labels)\n",
    "\n",
    "#### add title to plot as `3-cluster plot`\n",
    "plt.title('3-Cluster Plot')\n",
    "\n",
    "#### show the plot\n",
    "plt.show()"
   ]
  },
  {
   "cell_type": "markdown",
   "metadata": {},
   "source": [
    "Looks pretty good, correct? Now let's add the `labels` to `data_features` as an additional feature so that we can use it in further analysis."
   ]
  },
  {
   "cell_type": "code",
   "execution_count": 13,
   "metadata": {},
   "outputs": [
    {
     "name": "stdout",
     "output_type": "stream",
     "text": [
      "[1 1 1 ... 1 1 1]\n",
      "2265\n",
      "2265\n"
     ]
    }
   ],
   "source": [
    "# look at `labels`\n",
    "print(labels)\n",
    "print(len(labels))\n",
    "print(data_features.shape[0])"
   ]
  },
  {
   "cell_type": "code",
   "execution_count": 14,
   "metadata": {},
   "outputs": [
    {
     "data": {
      "text/html": [
       "<div>\n",
       "<style scoped>\n",
       "    .dataframe tbody tr th:only-of-type {\n",
       "        vertical-align: middle;\n",
       "    }\n",
       "\n",
       "    .dataframe tbody tr th {\n",
       "        vertical-align: top;\n",
       "    }\n",
       "\n",
       "    .dataframe thead th {\n",
       "        text-align: right;\n",
       "    }\n",
       "</style>\n",
       "<table border=\"1\" class=\"dataframe\">\n",
       "  <thead>\n",
       "    <tr style=\"text-align: right;\">\n",
       "      <th></th>\n",
       "      <th>G</th>\n",
       "      <th>R</th>\n",
       "      <th>AB</th>\n",
       "      <th>H</th>\n",
       "      <th>2B</th>\n",
       "      <th>3B</th>\n",
       "      <th>HR</th>\n",
       "      <th>BB</th>\n",
       "      <th>SO</th>\n",
       "      <th>SB</th>\n",
       "      <th>...</th>\n",
       "      <th>decade_1960</th>\n",
       "      <th>decade_1970</th>\n",
       "      <th>decade_1980</th>\n",
       "      <th>decade_1990</th>\n",
       "      <th>decade_2000</th>\n",
       "      <th>decade_2010</th>\n",
       "      <th>runs_per_game</th>\n",
       "      <th>runs_allowed_per_game</th>\n",
       "      <th>rpg</th>\n",
       "      <th>label</th>\n",
       "    </tr>\n",
       "  </thead>\n",
       "  <tbody>\n",
       "    <tr>\n",
       "      <th>0</th>\n",
       "      <td>162</td>\n",
       "      <td>744</td>\n",
       "      <td>5424</td>\n",
       "      <td>1331</td>\n",
       "      <td>218</td>\n",
       "      <td>22</td>\n",
       "      <td>189</td>\n",
       "      <td>681</td>\n",
       "      <td>1068.0</td>\n",
       "      <td>37</td>\n",
       "      <td>...</td>\n",
       "      <td>1</td>\n",
       "      <td>0</td>\n",
       "      <td>0</td>\n",
       "      <td>0</td>\n",
       "      <td>0</td>\n",
       "      <td>0</td>\n",
       "      <td>4.592593</td>\n",
       "      <td>4.839506</td>\n",
       "      <td>4.525175</td>\n",
       "      <td>1</td>\n",
       "    </tr>\n",
       "    <tr>\n",
       "      <th>1</th>\n",
       "      <td>162</td>\n",
       "      <td>718</td>\n",
       "      <td>5499</td>\n",
       "      <td>1377</td>\n",
       "      <td>232</td>\n",
       "      <td>35</td>\n",
       "      <td>137</td>\n",
       "      <td>602</td>\n",
       "      <td>917.0</td>\n",
       "      <td>46</td>\n",
       "      <td>...</td>\n",
       "      <td>1</td>\n",
       "      <td>0</td>\n",
       "      <td>0</td>\n",
       "      <td>0</td>\n",
       "      <td>0</td>\n",
       "      <td>0</td>\n",
       "      <td>4.432099</td>\n",
       "      <td>4.358025</td>\n",
       "      <td>4.460518</td>\n",
       "      <td>1</td>\n",
       "    </tr>\n",
       "    <tr>\n",
       "      <th>2</th>\n",
       "      <td>161</td>\n",
       "      <td>597</td>\n",
       "      <td>5506</td>\n",
       "      <td>1378</td>\n",
       "      <td>208</td>\n",
       "      <td>38</td>\n",
       "      <td>95</td>\n",
       "      <td>448</td>\n",
       "      <td>916.0</td>\n",
       "      <td>43</td>\n",
       "      <td>...</td>\n",
       "      <td>1</td>\n",
       "      <td>0</td>\n",
       "      <td>0</td>\n",
       "      <td>0</td>\n",
       "      <td>0</td>\n",
       "      <td>0</td>\n",
       "      <td>3.708075</td>\n",
       "      <td>4.099379</td>\n",
       "      <td>3.946881</td>\n",
       "      <td>1</td>\n",
       "    </tr>\n",
       "    <tr>\n",
       "      <th>3</th>\n",
       "      <td>162</td>\n",
       "      <td>544</td>\n",
       "      <td>5362</td>\n",
       "      <td>1297</td>\n",
       "      <td>186</td>\n",
       "      <td>27</td>\n",
       "      <td>102</td>\n",
       "      <td>472</td>\n",
       "      <td>920.0</td>\n",
       "      <td>49</td>\n",
       "      <td>...</td>\n",
       "      <td>1</td>\n",
       "      <td>0</td>\n",
       "      <td>0</td>\n",
       "      <td>0</td>\n",
       "      <td>0</td>\n",
       "      <td>0</td>\n",
       "      <td>3.358025</td>\n",
       "      <td>3.401235</td>\n",
       "      <td>4.035670</td>\n",
       "      <td>1</td>\n",
       "    </tr>\n",
       "    <tr>\n",
       "      <th>4</th>\n",
       "      <td>162</td>\n",
       "      <td>527</td>\n",
       "      <td>5354</td>\n",
       "      <td>1279</td>\n",
       "      <td>200</td>\n",
       "      <td>36</td>\n",
       "      <td>92</td>\n",
       "      <td>443</td>\n",
       "      <td>973.0</td>\n",
       "      <td>107</td>\n",
       "      <td>...</td>\n",
       "      <td>1</td>\n",
       "      <td>0</td>\n",
       "      <td>0</td>\n",
       "      <td>0</td>\n",
       "      <td>0</td>\n",
       "      <td>0</td>\n",
       "      <td>3.253086</td>\n",
       "      <td>3.512346</td>\n",
       "      <td>3.988293</td>\n",
       "      <td>1</td>\n",
       "    </tr>\n",
       "  </tbody>\n",
       "</table>\n",
       "<p>5 rows × 39 columns</p>\n",
       "</div>"
      ],
      "text/plain": [
       "     G    R    AB     H   2B  3B   HR   BB      SO   SB  ...    decade_1960  \\\n",
       "0  162  744  5424  1331  218  22  189  681  1068.0   37  ...              1   \n",
       "1  162  718  5499  1377  232  35  137  602   917.0   46  ...              1   \n",
       "2  161  597  5506  1378  208  38   95  448   916.0   43  ...              1   \n",
       "3  162  544  5362  1297  186  27  102  472   920.0   49  ...              1   \n",
       "4  162  527  5354  1279  200  36   92  443   973.0  107  ...              1   \n",
       "\n",
       "   decade_1970  decade_1980  decade_1990  decade_2000  decade_2010  \\\n",
       "0            0            0            0            0            0   \n",
       "1            0            0            0            0            0   \n",
       "2            0            0            0            0            0   \n",
       "3            0            0            0            0            0   \n",
       "4            0            0            0            0            0   \n",
       "\n",
       "   runs_per_game  runs_allowed_per_game       rpg  label  \n",
       "0       4.592593               4.839506  4.525175      1  \n",
       "1       4.432099               4.358025  4.460518      1  \n",
       "2       3.708075               4.099379  3.946881      1  \n",
       "3       3.358025               3.401235  4.035670      1  \n",
       "4       3.253086               3.512346  3.988293      1  \n",
       "\n",
       "[5 rows x 39 columns]"
      ]
     },
     "execution_count": 14,
     "metadata": {},
     "output_type": "execute_result"
    }
   ],
   "source": [
    "#### complete your code below\n",
    "#### add `labels` to `data_features`\n",
    "#### add `labels` as a column in `data_features` namely `label`\n",
    "data_features['label']  = labels\n",
    "\n",
    "#### double check by looking at the first 5 rows of `data_features`\n",
    "data_features.head()"
   ]
  },
  {
   "cell_type": "markdown",
   "metadata": {},
   "source": [
    "### Linear Regression\n",
    "\n",
    "We will train linear regression models to predict a continuous target `wins`."
   ]
  },
  {
   "cell_type": "code",
   "execution_count": 19,
   "metadata": {},
   "outputs": [
    {
     "data": {
      "text/html": [
       "<div>\n",
       "<style scoped>\n",
       "    .dataframe tbody tr th:only-of-type {\n",
       "        vertical-align: middle;\n",
       "    }\n",
       "\n",
       "    .dataframe tbody tr th {\n",
       "        vertical-align: top;\n",
       "    }\n",
       "\n",
       "    .dataframe thead th {\n",
       "        text-align: right;\n",
       "    }\n",
       "</style>\n",
       "<table border=\"1\" class=\"dataframe\">\n",
       "  <thead>\n",
       "    <tr style=\"text-align: right;\">\n",
       "      <th></th>\n",
       "      <th>G</th>\n",
       "      <th>R</th>\n",
       "      <th>AB</th>\n",
       "      <th>H</th>\n",
       "      <th>2B</th>\n",
       "      <th>3B</th>\n",
       "      <th>HR</th>\n",
       "      <th>BB</th>\n",
       "      <th>SO</th>\n",
       "      <th>SB</th>\n",
       "      <th>...</th>\n",
       "      <th>decade_1970</th>\n",
       "      <th>decade_1980</th>\n",
       "      <th>decade_1990</th>\n",
       "      <th>decade_2000</th>\n",
       "      <th>decade_2010</th>\n",
       "      <th>runs_per_game</th>\n",
       "      <th>runs_allowed_per_game</th>\n",
       "      <th>rpg</th>\n",
       "      <th>label</th>\n",
       "      <th>wins</th>\n",
       "    </tr>\n",
       "  </thead>\n",
       "  <tbody>\n",
       "    <tr>\n",
       "      <th>0</th>\n",
       "      <td>162</td>\n",
       "      <td>744</td>\n",
       "      <td>5424</td>\n",
       "      <td>1331</td>\n",
       "      <td>218</td>\n",
       "      <td>22</td>\n",
       "      <td>189</td>\n",
       "      <td>681</td>\n",
       "      <td>1068.0</td>\n",
       "      <td>37</td>\n",
       "      <td>...</td>\n",
       "      <td>0</td>\n",
       "      <td>0</td>\n",
       "      <td>0</td>\n",
       "      <td>0</td>\n",
       "      <td>0</td>\n",
       "      <td>4.592593</td>\n",
       "      <td>4.839506</td>\n",
       "      <td>4.525175</td>\n",
       "      <td>1</td>\n",
       "      <td>70</td>\n",
       "    </tr>\n",
       "    <tr>\n",
       "      <th>1</th>\n",
       "      <td>162</td>\n",
       "      <td>718</td>\n",
       "      <td>5499</td>\n",
       "      <td>1377</td>\n",
       "      <td>232</td>\n",
       "      <td>35</td>\n",
       "      <td>137</td>\n",
       "      <td>602</td>\n",
       "      <td>917.0</td>\n",
       "      <td>46</td>\n",
       "      <td>...</td>\n",
       "      <td>0</td>\n",
       "      <td>0</td>\n",
       "      <td>0</td>\n",
       "      <td>0</td>\n",
       "      <td>0</td>\n",
       "      <td>4.432099</td>\n",
       "      <td>4.358025</td>\n",
       "      <td>4.460518</td>\n",
       "      <td>1</td>\n",
       "      <td>86</td>\n",
       "    </tr>\n",
       "    <tr>\n",
       "      <th>2</th>\n",
       "      <td>161</td>\n",
       "      <td>597</td>\n",
       "      <td>5506</td>\n",
       "      <td>1378</td>\n",
       "      <td>208</td>\n",
       "      <td>38</td>\n",
       "      <td>95</td>\n",
       "      <td>448</td>\n",
       "      <td>916.0</td>\n",
       "      <td>43</td>\n",
       "      <td>...</td>\n",
       "      <td>0</td>\n",
       "      <td>0</td>\n",
       "      <td>0</td>\n",
       "      <td>0</td>\n",
       "      <td>0</td>\n",
       "      <td>3.708075</td>\n",
       "      <td>4.099379</td>\n",
       "      <td>3.946881</td>\n",
       "      <td>1</td>\n",
       "      <td>70</td>\n",
       "    </tr>\n",
       "    <tr>\n",
       "      <th>3</th>\n",
       "      <td>162</td>\n",
       "      <td>544</td>\n",
       "      <td>5362</td>\n",
       "      <td>1297</td>\n",
       "      <td>186</td>\n",
       "      <td>27</td>\n",
       "      <td>102</td>\n",
       "      <td>472</td>\n",
       "      <td>920.0</td>\n",
       "      <td>49</td>\n",
       "      <td>...</td>\n",
       "      <td>0</td>\n",
       "      <td>0</td>\n",
       "      <td>0</td>\n",
       "      <td>0</td>\n",
       "      <td>0</td>\n",
       "      <td>3.358025</td>\n",
       "      <td>3.401235</td>\n",
       "      <td>4.035670</td>\n",
       "      <td>1</td>\n",
       "      <td>82</td>\n",
       "    </tr>\n",
       "    <tr>\n",
       "      <th>4</th>\n",
       "      <td>162</td>\n",
       "      <td>527</td>\n",
       "      <td>5354</td>\n",
       "      <td>1279</td>\n",
       "      <td>200</td>\n",
       "      <td>36</td>\n",
       "      <td>92</td>\n",
       "      <td>443</td>\n",
       "      <td>973.0</td>\n",
       "      <td>107</td>\n",
       "      <td>...</td>\n",
       "      <td>0</td>\n",
       "      <td>0</td>\n",
       "      <td>0</td>\n",
       "      <td>0</td>\n",
       "      <td>0</td>\n",
       "      <td>3.253086</td>\n",
       "      <td>3.512346</td>\n",
       "      <td>3.988293</td>\n",
       "      <td>1</td>\n",
       "      <td>75</td>\n",
       "    </tr>\n",
       "  </tbody>\n",
       "</table>\n",
       "<p>5 rows × 40 columns</p>\n",
       "</div>"
      ],
      "text/plain": [
       "     G    R    AB     H   2B  3B   HR   BB      SO   SB  ...   decade_1970  \\\n",
       "0  162  744  5424  1331  218  22  189  681  1068.0   37  ...             0   \n",
       "1  162  718  5499  1377  232  35  137  602   917.0   46  ...             0   \n",
       "2  161  597  5506  1378  208  38   95  448   916.0   43  ...             0   \n",
       "3  162  544  5362  1297  186  27  102  472   920.0   49  ...             0   \n",
       "4  162  527  5354  1279  200  36   92  443   973.0  107  ...             0   \n",
       "\n",
       "   decade_1980  decade_1990  decade_2000  decade_2010  runs_per_game  \\\n",
       "0            0            0            0            0       4.592593   \n",
       "1            0            0            0            0       4.432099   \n",
       "2            0            0            0            0       3.708075   \n",
       "3            0            0            0            0       3.358025   \n",
       "4            0            0            0            0       3.253086   \n",
       "\n",
       "   runs_allowed_per_game       rpg  label  wins  \n",
       "0               4.839506  4.525175      1    70  \n",
       "1               4.358025  4.460518      1    86  \n",
       "2               4.099379  3.946881      1    70  \n",
       "3               3.401235  4.035670      1    82  \n",
       "4               3.512346  3.988293      1    75  \n",
       "\n",
       "[5 rows x 40 columns]"
      ]
     },
     "execution_count": 19,
     "metadata": {},
     "output_type": "execute_result"
    }
   ],
   "source": [
    "#### complete your code below\n",
    "#### first we need to create the dataset we will use for the regression model\n",
    "#### `reg_data` = `data_features` + `wins`\n",
    "reg_data = pd.concat([data_features, wins], axis=1)\n",
    "\n",
    "#### double check by looking at the first 5 rows of `reg_data`\n",
    "reg_data.head(5)"
   ]
  },
  {
   "cell_type": "code",
   "execution_count": 21,
   "metadata": {},
   "outputs": [
    {
     "data": {
      "text/html": [
       "<div>\n",
       "<style scoped>\n",
       "    .dataframe tbody tr th:only-of-type {\n",
       "        vertical-align: middle;\n",
       "    }\n",
       "\n",
       "    .dataframe tbody tr th {\n",
       "        vertical-align: top;\n",
       "    }\n",
       "\n",
       "    .dataframe thead th {\n",
       "        text-align: right;\n",
       "    }\n",
       "</style>\n",
       "<table border=\"1\" class=\"dataframe\">\n",
       "  <thead>\n",
       "    <tr style=\"text-align: right;\">\n",
       "      <th></th>\n",
       "      <th>G</th>\n",
       "      <th>R</th>\n",
       "      <th>AB</th>\n",
       "      <th>H</th>\n",
       "      <th>2B</th>\n",
       "      <th>3B</th>\n",
       "      <th>HR</th>\n",
       "      <th>BB</th>\n",
       "      <th>SO</th>\n",
       "      <th>SB</th>\n",
       "      <th>...</th>\n",
       "      <th>decade_1970</th>\n",
       "      <th>decade_1980</th>\n",
       "      <th>decade_1990</th>\n",
       "      <th>decade_2000</th>\n",
       "      <th>decade_2010</th>\n",
       "      <th>runs_per_game</th>\n",
       "      <th>runs_allowed_per_game</th>\n",
       "      <th>rpg</th>\n",
       "      <th>label</th>\n",
       "      <th>wins</th>\n",
       "    </tr>\n",
       "  </thead>\n",
       "  <tbody>\n",
       "    <tr>\n",
       "      <th>count</th>\n",
       "      <td>2265.000000</td>\n",
       "      <td>2265.00000</td>\n",
       "      <td>2265.000000</td>\n",
       "      <td>2265.000000</td>\n",
       "      <td>2265.000000</td>\n",
       "      <td>2265.000000</td>\n",
       "      <td>2265.000000</td>\n",
       "      <td>2265.000000</td>\n",
       "      <td>2265.000000</td>\n",
       "      <td>2265.000000</td>\n",
       "      <td>...</td>\n",
       "      <td>2265.000000</td>\n",
       "      <td>2265.000000</td>\n",
       "      <td>2265.000000</td>\n",
       "      <td>2265.000000</td>\n",
       "      <td>2265.000000</td>\n",
       "      <td>2265.000000</td>\n",
       "      <td>2265.000000</td>\n",
       "      <td>2265.000000</td>\n",
       "      <td>2265.000000</td>\n",
       "      <td>2265.000000</td>\n",
       "    </tr>\n",
       "    <tr>\n",
       "      <th>mean</th>\n",
       "      <td>159.010155</td>\n",
       "      <td>699.28521</td>\n",
       "      <td>5415.782340</td>\n",
       "      <td>1414.788962</td>\n",
       "      <td>245.046799</td>\n",
       "      <td>44.397792</td>\n",
       "      <td>118.361148</td>\n",
       "      <td>513.631788</td>\n",
       "      <td>834.424724</td>\n",
       "      <td>98.186755</td>\n",
       "      <td>...</td>\n",
       "      <td>0.108609</td>\n",
       "      <td>0.103311</td>\n",
       "      <td>0.098013</td>\n",
       "      <td>0.132450</td>\n",
       "      <td>0.092715</td>\n",
       "      <td>4.398085</td>\n",
       "      <td>4.397847</td>\n",
       "      <td>4.398195</td>\n",
       "      <td>1.063135</td>\n",
       "      <td>79.211479</td>\n",
       "    </tr>\n",
       "    <tr>\n",
       "      <th>std</th>\n",
       "      <td>3.741585</td>\n",
       "      <td>102.29043</td>\n",
       "      <td>171.911625</td>\n",
       "      <td>106.173052</td>\n",
       "      <td>45.564428</td>\n",
       "      <td>19.605096</td>\n",
       "      <td>55.661793</td>\n",
       "      <td>83.964601</td>\n",
       "      <td>248.585233</td>\n",
       "      <td>50.999021</td>\n",
       "      <td>...</td>\n",
       "      <td>0.311217</td>\n",
       "      <td>0.304432</td>\n",
       "      <td>0.297398</td>\n",
       "      <td>0.339055</td>\n",
       "      <td>0.290097</td>\n",
       "      <td>0.641416</td>\n",
       "      <td>0.651584</td>\n",
       "      <td>0.409479</td>\n",
       "      <td>0.647082</td>\n",
       "      <td>13.020365</td>\n",
       "    </tr>\n",
       "    <tr>\n",
       "      <th>min</th>\n",
       "      <td>150.000000</td>\n",
       "      <td>371.00000</td>\n",
       "      <td>4768.000000</td>\n",
       "      <td>1044.000000</td>\n",
       "      <td>110.000000</td>\n",
       "      <td>6.000000</td>\n",
       "      <td>3.000000</td>\n",
       "      <td>282.000000</td>\n",
       "      <td>308.000000</td>\n",
       "      <td>13.000000</td>\n",
       "      <td>...</td>\n",
       "      <td>0.000000</td>\n",
       "      <td>0.000000</td>\n",
       "      <td>0.000000</td>\n",
       "      <td>0.000000</td>\n",
       "      <td>0.000000</td>\n",
       "      <td>2.409091</td>\n",
       "      <td>2.458065</td>\n",
       "      <td>3.385450</td>\n",
       "      <td>0.000000</td>\n",
       "      <td>36.000000</td>\n",
       "    </tr>\n",
       "    <tr>\n",
       "      <th>25%</th>\n",
       "      <td>155.000000</td>\n",
       "      <td>633.00000</td>\n",
       "      <td>5301.000000</td>\n",
       "      <td>1348.000000</td>\n",
       "      <td>213.000000</td>\n",
       "      <td>30.000000</td>\n",
       "      <td>80.000000</td>\n",
       "      <td>457.000000</td>\n",
       "      <td>617.000000</td>\n",
       "      <td>61.000000</td>\n",
       "      <td>...</td>\n",
       "      <td>0.000000</td>\n",
       "      <td>0.000000</td>\n",
       "      <td>0.000000</td>\n",
       "      <td>0.000000</td>\n",
       "      <td>0.000000</td>\n",
       "      <td>3.975155</td>\n",
       "      <td>3.956790</td>\n",
       "      <td>4.132241</td>\n",
       "      <td>1.000000</td>\n",
       "      <td>70.000000</td>\n",
       "    </tr>\n",
       "    <tr>\n",
       "      <th>50%</th>\n",
       "      <td>162.000000</td>\n",
       "      <td>696.00000</td>\n",
       "      <td>5458.000000</td>\n",
       "      <td>1412.000000</td>\n",
       "      <td>246.000000</td>\n",
       "      <td>39.000000</td>\n",
       "      <td>123.000000</td>\n",
       "      <td>511.000000</td>\n",
       "      <td>855.000000</td>\n",
       "      <td>89.000000</td>\n",
       "      <td>...</td>\n",
       "      <td>0.000000</td>\n",
       "      <td>0.000000</td>\n",
       "      <td>0.000000</td>\n",
       "      <td>0.000000</td>\n",
       "      <td>0.000000</td>\n",
       "      <td>4.382716</td>\n",
       "      <td>4.358025</td>\n",
       "      <td>4.383279</td>\n",
       "      <td>1.000000</td>\n",
       "      <td>80.000000</td>\n",
       "    </tr>\n",
       "    <tr>\n",
       "      <th>75%</th>\n",
       "      <td>162.000000</td>\n",
       "      <td>762.00000</td>\n",
       "      <td>5539.000000</td>\n",
       "      <td>1487.000000</td>\n",
       "      <td>278.000000</td>\n",
       "      <td>55.000000</td>\n",
       "      <td>159.000000</td>\n",
       "      <td>568.000000</td>\n",
       "      <td>1015.000000</td>\n",
       "      <td>126.000000</td>\n",
       "      <td>...</td>\n",
       "      <td>0.000000</td>\n",
       "      <td>0.000000</td>\n",
       "      <td>0.000000</td>\n",
       "      <td>0.000000</td>\n",
       "      <td>0.000000</td>\n",
       "      <td>4.783951</td>\n",
       "      <td>4.797546</td>\n",
       "      <td>4.727984</td>\n",
       "      <td>1.000000</td>\n",
       "      <td>89.000000</td>\n",
       "    </tr>\n",
       "    <tr>\n",
       "      <th>max</th>\n",
       "      <td>165.000000</td>\n",
       "      <td>1067.00000</td>\n",
       "      <td>5781.000000</td>\n",
       "      <td>1783.000000</td>\n",
       "      <td>376.000000</td>\n",
       "      <td>129.000000</td>\n",
       "      <td>264.000000</td>\n",
       "      <td>835.000000</td>\n",
       "      <td>1543.000000</td>\n",
       "      <td>347.000000</td>\n",
       "      <td>...</td>\n",
       "      <td>1.000000</td>\n",
       "      <td>1.000000</td>\n",
       "      <td>1.000000</td>\n",
       "      <td>1.000000</td>\n",
       "      <td>1.000000</td>\n",
       "      <td>6.896104</td>\n",
       "      <td>7.685897</td>\n",
       "      <td>5.549028</td>\n",
       "      <td>2.000000</td>\n",
       "      <td>116.000000</td>\n",
       "    </tr>\n",
       "  </tbody>\n",
       "</table>\n",
       "<p>8 rows × 40 columns</p>\n",
       "</div>"
      ],
      "text/plain": [
       "                 G           R           AB            H           2B  \\\n",
       "count  2265.000000  2265.00000  2265.000000  2265.000000  2265.000000   \n",
       "mean    159.010155   699.28521  5415.782340  1414.788962   245.046799   \n",
       "std       3.741585   102.29043   171.911625   106.173052    45.564428   \n",
       "min     150.000000   371.00000  4768.000000  1044.000000   110.000000   \n",
       "25%     155.000000   633.00000  5301.000000  1348.000000   213.000000   \n",
       "50%     162.000000   696.00000  5458.000000  1412.000000   246.000000   \n",
       "75%     162.000000   762.00000  5539.000000  1487.000000   278.000000   \n",
       "max     165.000000  1067.00000  5781.000000  1783.000000   376.000000   \n",
       "\n",
       "                3B           HR           BB           SO           SB  \\\n",
       "count  2265.000000  2265.000000  2265.000000  2265.000000  2265.000000   \n",
       "mean     44.397792   118.361148   513.631788   834.424724    98.186755   \n",
       "std      19.605096    55.661793    83.964601   248.585233    50.999021   \n",
       "min       6.000000     3.000000   282.000000   308.000000    13.000000   \n",
       "25%      30.000000    80.000000   457.000000   617.000000    61.000000   \n",
       "50%      39.000000   123.000000   511.000000   855.000000    89.000000   \n",
       "75%      55.000000   159.000000   568.000000  1015.000000   126.000000   \n",
       "max     129.000000   264.000000   835.000000  1543.000000   347.000000   \n",
       "\n",
       "          ...       decade_1970  decade_1980  decade_1990  decade_2000  \\\n",
       "count     ...       2265.000000  2265.000000  2265.000000  2265.000000   \n",
       "mean      ...          0.108609     0.103311     0.098013     0.132450   \n",
       "std       ...          0.311217     0.304432     0.297398     0.339055   \n",
       "min       ...          0.000000     0.000000     0.000000     0.000000   \n",
       "25%       ...          0.000000     0.000000     0.000000     0.000000   \n",
       "50%       ...          0.000000     0.000000     0.000000     0.000000   \n",
       "75%       ...          0.000000     0.000000     0.000000     0.000000   \n",
       "max       ...          1.000000     1.000000     1.000000     1.000000   \n",
       "\n",
       "       decade_2010  runs_per_game  runs_allowed_per_game          rpg  \\\n",
       "count  2265.000000    2265.000000            2265.000000  2265.000000   \n",
       "mean      0.092715       4.398085               4.397847     4.398195   \n",
       "std       0.290097       0.641416               0.651584     0.409479   \n",
       "min       0.000000       2.409091               2.458065     3.385450   \n",
       "25%       0.000000       3.975155               3.956790     4.132241   \n",
       "50%       0.000000       4.382716               4.358025     4.383279   \n",
       "75%       0.000000       4.783951               4.797546     4.727984   \n",
       "max       1.000000       6.896104               7.685897     5.549028   \n",
       "\n",
       "             label         wins  \n",
       "count  2265.000000  2265.000000  \n",
       "mean      1.063135    79.211479  \n",
       "std       0.647082    13.020365  \n",
       "min       0.000000    36.000000  \n",
       "25%       1.000000    70.000000  \n",
       "50%       1.000000    80.000000  \n",
       "75%       1.000000    89.000000  \n",
       "max       2.000000   116.000000  \n",
       "\n",
       "[8 rows x 40 columns]"
      ]
     },
     "execution_count": 21,
     "metadata": {},
     "output_type": "execute_result"
    }
   ],
   "source": [
    "#### complete your code below\n",
    "#### investigate descriptive stats using describe()\n",
    "reg_data.describe()"
   ]
  },
  {
   "cell_type": "markdown",
   "metadata": {},
   "source": [
    "Let's import the dependencies for building and evaluation a linear regression model."
   ]
  },
  {
   "cell_type": "code",
   "execution_count": 22,
   "metadata": {},
   "outputs": [],
   "source": [
    "# Import `LinearRegression` from `sklearn.linear_model`\n",
    "from sklearn.linear_model import LinearRegression\n",
    "\n",
    "# Import `mean_absolute_error` from `sklearn.metrics`\n",
    "from sklearn.metrics import mean_absolute_error"
   ]
  },
  {
   "cell_type": "markdown",
   "metadata": {},
   "source": [
    "Then let's define the features and target. There are two ways of doing this. Let's try the first."
   ]
  },
  {
   "cell_type": "code",
   "execution_count": 26,
   "metadata": {},
   "outputs": [],
   "source": [
    "#### complete your code below\n",
    "#### create a variable `reg_values` which are the values in `reg_data`\n",
    "reg_values = reg_data.values\n",
    "\n",
    "#### create a variable `X` which contains all columns in `reg_values` besides the last \n",
    "X = reg_values[:,:-1]\n",
    "\n",
    "#### create a variable `y` which contains the last column in `reg_values`\n",
    "Y = reg_values[:,-1]"
   ]
  },
  {
   "cell_type": "markdown",
   "metadata": {},
   "source": [
    "Here is an alternative method:"
   ]
  },
  {
   "cell_type": "code",
   "execution_count": 27,
   "metadata": {},
   "outputs": [],
   "source": [
    "#### complete your code below\n",
    "#### create a variable `Xa` which contains all values in `data_features`\n",
    "Xa = data_features.values\n",
    "\n",
    "#### create a variable `ya` which contains values in `wins`\n",
    "ya = wins.values"
   ]
  },
  {
   "cell_type": "markdown",
   "metadata": {},
   "source": [
    "Now we need to split our data into training (`X_train`, `y_train`) and testing (`X_test`, `y_test`)."
   ]
  },
  {
   "cell_type": "code",
   "execution_count": 29,
   "metadata": {},
   "outputs": [],
   "source": [
    "#### complete your code below\n",
    "#### import `train_test_split` from `sklearn.model_selection`\n",
    "from sklearn.model_selection import train_test_split\n",
    "\n",
    "#### split X, y into training and testing, using 75/25 split, and set `random_state = 2019`\n",
    "X_train, X_test, Y_train, Y_test = train_test_split(X,Y, test_size=0.25, random_state=2019)"
   ]
  },
  {
   "cell_type": "code",
   "execution_count": 30,
   "metadata": {},
   "outputs": [],
   "source": [
    "# Create Linear Regression model, fit model, and make predictions\n",
    "lr = LinearRegression(normalize=True)\n",
    "lr.fit(X_train, Y_train)\n",
    "y_pred = lr.predict(X_test)"
   ]
  },
  {
   "cell_type": "code",
   "execution_count": 32,
   "metadata": {},
   "outputs": [
    {
     "name": "stdout",
     "output_type": "stream",
     "text": [
      "2.7803023490270484\n"
     ]
    }
   ],
   "source": [
    "# calculate the MAE\n",
    "mae = mean_absolute_error(Y_test, y_pred)\n",
    "\n",
    "# Print `mae`\n",
    "print(mae)"
   ]
  },
  {
   "cell_type": "markdown",
   "metadata": {},
   "source": [
    "You can print your linear regression model."
   ]
  },
  {
   "cell_type": "code",
   "execution_count": 33,
   "metadata": {},
   "outputs": [
    {
     "data": {
      "text/plain": [
       "array([-6.06926694e-01,  7.96206941e-02, -3.34264523e-02,  2.46692569e-02,\n",
       "        3.85176590e-03,  1.03632859e-03,  2.45773753e-03, -6.03920503e-03,\n",
       "        2.46822394e-04, -3.31703306e-03,  7.98005007e-02, -1.05469012e-01,\n",
       "        1.64268755e+01,  1.08137794e-01,  1.60894154e-01,  3.04038545e-01,\n",
       "        6.29859873e-02, -6.97906306e-03, -8.05612999e-03, -7.45267261e-03,\n",
       "        1.37874385e-03, -4.58157835e-02,  4.49390163e-03, -2.18231892e+02,\n",
       "       -2.44798893e+00, -1.43060117e+00,  1.32151992e+00,  2.58079083e+00,\n",
       "        9.79185877e-01,  4.63598209e-01,  3.52010762e-01, -1.73214575e-01,\n",
       "       -7.54705968e-01, -1.10656309e-01,  4.60391180e-01,  1.56054276e+00,\n",
       "       -2.20254225e+01,  7.88415696e-01,  3.98490240e-01])"
      ]
     },
     "execution_count": 33,
     "metadata": {},
     "output_type": "execute_result"
    }
   ],
   "source": [
    "lr.coef_"
   ]
  },
  {
   "cell_type": "code",
   "execution_count": 34,
   "metadata": {},
   "outputs": [
    {
     "data": {
      "text/plain": [
       "248.65982443275894"
      ]
     },
     "execution_count": 34,
     "metadata": {},
     "output_type": "execute_result"
    }
   ],
   "source": [
    "lr.intercept_"
   ]
  },
  {
   "cell_type": "markdown",
   "metadata": {},
   "source": [
    "We can try to train an advanced regression model to see if there is any improvement in results."
   ]
  },
  {
   "cell_type": "code",
   "execution_count": 36,
   "metadata": {},
   "outputs": [
    {
     "name": "stdout",
     "output_type": "stream",
     "text": [
      "2.810678272164131\n"
     ]
    }
   ],
   "source": [
    "# Import `RidgeCV` from `sklearn.linear_model`\n",
    "from sklearn.linear_model import RidgeCV\n",
    "\n",
    "# Create Ridge Linear Regression model, fit model, and make predictions\n",
    "rrm = RidgeCV(alphas=(0.01, 0.1, 1.0, 10.0), normalize=True)\n",
    "rrm.fit(X_train, Y_train)\n",
    "predictions_rrm = rrm.predict(X_test)\n",
    "\n",
    "# Determine mean absolute error\n",
    "mae_rrm = mean_absolute_error(Y_test, predictions_rrm)\n",
    "print(mae_rrm)"
   ]
  },
  {
   "cell_type": "markdown",
   "metadata": {},
   "source": [
    "We can also see how much contribution the `label` feature provides to the regression model."
   ]
  },
  {
   "cell_type": "code",
   "execution_count": 40,
   "metadata": {},
   "outputs": [
    {
     "name": "stdout",
     "output_type": "stream",
     "text": [
      "2.7779226910566797\n"
     ]
    }
   ],
   "source": [
    "#### Complete your code below\n",
    "#### create a variable `Xb` without `label`\n",
    "#### you can do it by getting X[:,:-1]\n",
    "Xb = X[:,:-1]\n",
    "\n",
    "#### create your training and testing data using Xb and y\n",
    "#### remember that Xb does not contain 'label', use the same parameters as before\n",
    "#### 75/25 split, and `random_state = 2019`\n",
    "X_train, X_test, Y_train, Y_test = train_test_split(Xb, Y, test_size=0.25, random_state=2019)\n",
    "\n",
    "#### Create Linear Regression model, fit model, and make predictions\n",
    "lr = LinearRegression(normalize=True)\n",
    "lr.fit(X_train, Y_train)\n",
    "y_pred = lr.predict(X_test)\n",
    "\n",
    "#### calculate the MAE\n",
    "MAE = mean_absolute_error(Y_test, y_pred)\n",
    "\n",
    "#### Print `mae`\n",
    "print(MAE)"
   ]
  },
  {
   "cell_type": "markdown",
   "metadata": {},
   "source": [
    "### Question: \n",
    "__Do you observe an improvement or not while excluding `label` in the analysis? In other words, does `label` help with the analysis? Answer in the next block__."
   ]
  },
  {
   "cell_type": "markdown",
   "metadata": {},
   "source": [
    "There was only a very small improvement shown. "
   ]
  },
  {
   "cell_type": "markdown",
   "metadata": {},
   "source": [
    "### Logistic Regression\n",
    "\n",
    "You will need to create a logistic regression model __on your own__, using `data_features` as features, and `win_bins` as the target.\n",
    "\n",
    "If you have any question, refer to the logistic regression notebook for more help."
   ]
  },
  {
   "cell_type": "code",
   "execution_count": 42,
   "metadata": {},
   "outputs": [],
   "source": [
    "# importing logistic regression \n",
    "from sklearn.linear_model import LogisticRegression \n",
    "from sklearn import metrics \n",
    "import seaborn as sns"
   ]
  },
  {
   "cell_type": "code",
   "execution_count": 43,
   "metadata": {},
   "outputs": [],
   "source": [
    "# defining variables \n",
    "X = data_features.values\n",
    "Y = win_bins.values"
   ]
  },
  {
   "cell_type": "code",
   "execution_count": 48,
   "metadata": {},
   "outputs": [
    {
     "data": {
      "text/html": [
       "<div>\n",
       "<style scoped>\n",
       "    .dataframe tbody tr th:only-of-type {\n",
       "        vertical-align: middle;\n",
       "    }\n",
       "\n",
       "    .dataframe tbody tr th {\n",
       "        vertical-align: top;\n",
       "    }\n",
       "\n",
       "    .dataframe thead th {\n",
       "        text-align: right;\n",
       "    }\n",
       "</style>\n",
       "<table border=\"1\" class=\"dataframe\">\n",
       "  <thead>\n",
       "    <tr style=\"text-align: right;\">\n",
       "      <th></th>\n",
       "      <th>G</th>\n",
       "      <th>R</th>\n",
       "      <th>AB</th>\n",
       "      <th>H</th>\n",
       "      <th>2B</th>\n",
       "      <th>3B</th>\n",
       "      <th>HR</th>\n",
       "      <th>BB</th>\n",
       "      <th>SO</th>\n",
       "      <th>SB</th>\n",
       "      <th>...</th>\n",
       "      <th>decade_1960</th>\n",
       "      <th>decade_1970</th>\n",
       "      <th>decade_1980</th>\n",
       "      <th>decade_1990</th>\n",
       "      <th>decade_2000</th>\n",
       "      <th>decade_2010</th>\n",
       "      <th>runs_per_game</th>\n",
       "      <th>runs_allowed_per_game</th>\n",
       "      <th>rpg</th>\n",
       "      <th>label</th>\n",
       "    </tr>\n",
       "  </thead>\n",
       "  <tbody>\n",
       "    <tr>\n",
       "      <th>0</th>\n",
       "      <td>162</td>\n",
       "      <td>744</td>\n",
       "      <td>5424</td>\n",
       "      <td>1331</td>\n",
       "      <td>218</td>\n",
       "      <td>22</td>\n",
       "      <td>189</td>\n",
       "      <td>681</td>\n",
       "      <td>1068.0</td>\n",
       "      <td>37</td>\n",
       "      <td>...</td>\n",
       "      <td>1</td>\n",
       "      <td>0</td>\n",
       "      <td>0</td>\n",
       "      <td>0</td>\n",
       "      <td>0</td>\n",
       "      <td>0</td>\n",
       "      <td>4.592593</td>\n",
       "      <td>4.839506</td>\n",
       "      <td>4.525175</td>\n",
       "      <td>1</td>\n",
       "    </tr>\n",
       "    <tr>\n",
       "      <th>1</th>\n",
       "      <td>162</td>\n",
       "      <td>718</td>\n",
       "      <td>5499</td>\n",
       "      <td>1377</td>\n",
       "      <td>232</td>\n",
       "      <td>35</td>\n",
       "      <td>137</td>\n",
       "      <td>602</td>\n",
       "      <td>917.0</td>\n",
       "      <td>46</td>\n",
       "      <td>...</td>\n",
       "      <td>1</td>\n",
       "      <td>0</td>\n",
       "      <td>0</td>\n",
       "      <td>0</td>\n",
       "      <td>0</td>\n",
       "      <td>0</td>\n",
       "      <td>4.432099</td>\n",
       "      <td>4.358025</td>\n",
       "      <td>4.460518</td>\n",
       "      <td>1</td>\n",
       "    </tr>\n",
       "    <tr>\n",
       "      <th>2</th>\n",
       "      <td>161</td>\n",
       "      <td>597</td>\n",
       "      <td>5506</td>\n",
       "      <td>1378</td>\n",
       "      <td>208</td>\n",
       "      <td>38</td>\n",
       "      <td>95</td>\n",
       "      <td>448</td>\n",
       "      <td>916.0</td>\n",
       "      <td>43</td>\n",
       "      <td>...</td>\n",
       "      <td>1</td>\n",
       "      <td>0</td>\n",
       "      <td>0</td>\n",
       "      <td>0</td>\n",
       "      <td>0</td>\n",
       "      <td>0</td>\n",
       "      <td>3.708075</td>\n",
       "      <td>4.099379</td>\n",
       "      <td>3.946881</td>\n",
       "      <td>1</td>\n",
       "    </tr>\n",
       "    <tr>\n",
       "      <th>3</th>\n",
       "      <td>162</td>\n",
       "      <td>544</td>\n",
       "      <td>5362</td>\n",
       "      <td>1297</td>\n",
       "      <td>186</td>\n",
       "      <td>27</td>\n",
       "      <td>102</td>\n",
       "      <td>472</td>\n",
       "      <td>920.0</td>\n",
       "      <td>49</td>\n",
       "      <td>...</td>\n",
       "      <td>1</td>\n",
       "      <td>0</td>\n",
       "      <td>0</td>\n",
       "      <td>0</td>\n",
       "      <td>0</td>\n",
       "      <td>0</td>\n",
       "      <td>3.358025</td>\n",
       "      <td>3.401235</td>\n",
       "      <td>4.035670</td>\n",
       "      <td>1</td>\n",
       "    </tr>\n",
       "    <tr>\n",
       "      <th>4</th>\n",
       "      <td>162</td>\n",
       "      <td>527</td>\n",
       "      <td>5354</td>\n",
       "      <td>1279</td>\n",
       "      <td>200</td>\n",
       "      <td>36</td>\n",
       "      <td>92</td>\n",
       "      <td>443</td>\n",
       "      <td>973.0</td>\n",
       "      <td>107</td>\n",
       "      <td>...</td>\n",
       "      <td>1</td>\n",
       "      <td>0</td>\n",
       "      <td>0</td>\n",
       "      <td>0</td>\n",
       "      <td>0</td>\n",
       "      <td>0</td>\n",
       "      <td>3.253086</td>\n",
       "      <td>3.512346</td>\n",
       "      <td>3.988293</td>\n",
       "      <td>1</td>\n",
       "    </tr>\n",
       "  </tbody>\n",
       "</table>\n",
       "<p>5 rows × 39 columns</p>\n",
       "</div>"
      ],
      "text/plain": [
       "     G    R    AB     H   2B  3B   HR   BB      SO   SB  ...    decade_1960  \\\n",
       "0  162  744  5424  1331  218  22  189  681  1068.0   37  ...              1   \n",
       "1  162  718  5499  1377  232  35  137  602   917.0   46  ...              1   \n",
       "2  161  597  5506  1378  208  38   95  448   916.0   43  ...              1   \n",
       "3  162  544  5362  1297  186  27  102  472   920.0   49  ...              1   \n",
       "4  162  527  5354  1279  200  36   92  443   973.0  107  ...              1   \n",
       "\n",
       "   decade_1970  decade_1980  decade_1990  decade_2000  decade_2010  \\\n",
       "0            0            0            0            0            0   \n",
       "1            0            0            0            0            0   \n",
       "2            0            0            0            0            0   \n",
       "3            0            0            0            0            0   \n",
       "4            0            0            0            0            0   \n",
       "\n",
       "   runs_per_game  runs_allowed_per_game       rpg  label  \n",
       "0       4.592593               4.839506  4.525175      1  \n",
       "1       4.432099               4.358025  4.460518      1  \n",
       "2       3.708075               4.099379  3.946881      1  \n",
       "3       3.358025               3.401235  4.035670      1  \n",
       "4       3.253086               3.512346  3.988293      1  \n",
       "\n",
       "[5 rows x 39 columns]"
      ]
     },
     "execution_count": 48,
     "metadata": {},
     "output_type": "execute_result"
    }
   ],
   "source": [
    "data_features.head()"
   ]
  },
  {
   "cell_type": "code",
   "execution_count": 49,
   "metadata": {},
   "outputs": [
    {
     "data": {
      "text/html": [
       "<div>\n",
       "<style scoped>\n",
       "    .dataframe tbody tr th:only-of-type {\n",
       "        vertical-align: middle;\n",
       "    }\n",
       "\n",
       "    .dataframe tbody tr th {\n",
       "        vertical-align: top;\n",
       "    }\n",
       "\n",
       "    .dataframe thead th {\n",
       "        text-align: right;\n",
       "    }\n",
       "</style>\n",
       "<table border=\"1\" class=\"dataframe\">\n",
       "  <thead>\n",
       "    <tr style=\"text-align: right;\">\n",
       "      <th></th>\n",
       "      <th>win_bins</th>\n",
       "    </tr>\n",
       "  </thead>\n",
       "  <tbody>\n",
       "    <tr>\n",
       "      <th>0</th>\n",
       "      <td>3</td>\n",
       "    </tr>\n",
       "    <tr>\n",
       "      <th>1</th>\n",
       "      <td>3</td>\n",
       "    </tr>\n",
       "    <tr>\n",
       "      <th>2</th>\n",
       "      <td>3</td>\n",
       "    </tr>\n",
       "    <tr>\n",
       "      <th>3</th>\n",
       "      <td>3</td>\n",
       "    </tr>\n",
       "    <tr>\n",
       "      <th>4</th>\n",
       "      <td>3</td>\n",
       "    </tr>\n",
       "  </tbody>\n",
       "</table>\n",
       "</div>"
      ],
      "text/plain": [
       "   win_bins\n",
       "0         3\n",
       "1         3\n",
       "2         3\n",
       "3         3\n",
       "4         3"
      ]
     },
     "execution_count": 49,
     "metadata": {},
     "output_type": "execute_result"
    }
   ],
   "source": [
    "win_bins.head()"
   ]
  },
  {
   "cell_type": "code",
   "execution_count": 50,
   "metadata": {},
   "outputs": [],
   "source": [
    "# spliting testing and training data\n",
    "X_train, X_test, Y_train, Y_test = train_test_split(X,Y, test_size=0.25, random_state=2019)"
   ]
  },
  {
   "cell_type": "code",
   "execution_count": 52,
   "metadata": {},
   "outputs": [
    {
     "name": "stderr",
     "output_type": "stream",
     "text": [
      "/home/jupyter-jhoffmann/.local/lib/python3.6/site-packages/sklearn/utils/validation.py:578: DataConversionWarning: A column-vector y was passed when a 1d array was expected. Please change the shape of y to (n_samples, ), for example using ravel().\n",
      "  y = column_or_1d(y, warn=True)\n"
     ]
    }
   ],
   "source": [
    "# define logistic regression \n",
    "lgr = LogisticRegression()\n",
    "\n",
    "# fitting model\n",
    "lgr.fit(X_train, Y_train)\n",
    "\n",
    "# predicting values \n",
    "y_pred=lgr.predict(X_test)"
   ]
  },
  {
   "cell_type": "code",
   "execution_count": 53,
   "metadata": {},
   "outputs": [
    {
     "data": {
      "text/plain": [
       "array([[  1,   1,   0,   0,   0],\n",
       "       [  1,  97,  25,   0,   0],\n",
       "       [  0,  20, 270,  14,   0],\n",
       "       [  0,   0,  41,  96,   0],\n",
       "       [  0,   0,   0,   1,   0]])"
      ]
     },
     "execution_count": 53,
     "metadata": {},
     "output_type": "execute_result"
    }
   ],
   "source": [
    "# creating confusion matrix\n",
    "matrix = metrics.confusion_matrix(Y_test, y_pred)\n",
    "matrix"
   ]
  },
  {
   "cell_type": "code",
   "execution_count": 54,
   "metadata": {},
   "outputs": [
    {
     "name": "stdout",
     "output_type": "stream",
     "text": [
      "Accuracy: 0.818342151675485\n"
     ]
    }
   ],
   "source": [
    "# checking the accuracy \n",
    "print('Accuracy:', metrics.accuracy_score(Y_test, y_pred))"
   ]
  },
  {
   "cell_type": "code",
   "execution_count": 55,
   "metadata": {},
   "outputs": [
    {
     "name": "stdout",
     "output_type": "stream",
     "text": [
      "0.18165784832451498\n"
     ]
    }
   ],
   "source": [
    "# checking MAE \n",
    "MAE = mean_absolute_error(Y_test, y_pred)\n",
    "print(MAE)"
   ]
  },
  {
   "cell_type": "code",
   "execution_count": null,
   "metadata": {},
   "outputs": [],
   "source": []
  }
 ],
 "metadata": {
  "kernelspec": {
   "display_name": "Python 3",
   "language": "python",
   "name": "python3"
  },
  "language_info": {
   "codemirror_mode": {
    "name": "ipython",
    "version": 3
   },
   "file_extension": ".py",
   "mimetype": "text/x-python",
   "name": "python",
   "nbconvert_exporter": "python",
   "pygments_lexer": "ipython3",
   "version": "3.6.5"
  }
 },
 "nbformat": 4,
 "nbformat_minor": 2
}
